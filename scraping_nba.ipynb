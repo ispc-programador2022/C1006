{
 "cells": [
  {
   "cell_type": "code",
   "execution_count": 1,
   "id": "2ceae9b7",
   "metadata": {},
   "outputs": [
    {
     "name": "stdout",
     "output_type": "stream",
     "text": [
      "['Rk', 'Player', 'Pos', 'Age', 'Tm', 'G', 'GS', 'MP', 'FG', 'FGA', 'FG%', '3P', '3PA', '3P%', '2P', '2PA', '2P%', 'eFG%', 'FT', 'FTA', 'FT%', 'ORB', 'DRB', 'TRB', 'AST', 'STL', 'BLK', 'TOV', 'PF', 'PTS']\n"
     ]
    }
   ],
   "source": [
    "import pandas as pd\n",
    "from bs4 import BeautifulSoup\n",
    "from urllib import request\n",
    "\n",
    "website = request.urlopen(\"https://www.basketball-reference.com/leagues/NBA_2020_per_game.html\").read()\n",
    "soup = BeautifulSoup(website, 'lxml')\n",
    "\n",
    "table = soup.find('table', attrs={'class': 'sortable', 'id': 'per_game_stats'})\n",
    "\n",
    "table_headers = [header.text for header in table.find('thead').find_all('th')]\n",
    "table_rows = table.find_all('tr')\n",
    "\n",
    "final_data = []\n",
    "for tr in table_rows:\n",
    "\ttd = tr.find_all('td')\n",
    "\trow = [tr.text for tr in td]\n",
    "\tfinal_data.append(row)\n",
    "\n",
    "print(table_headers)\n",
    "df = pd.DataFrame(final_data, columns=table_headers[1:])\n",
    "df.to_csv('output.csv')"
   ]
  }
 ],
 "metadata": {
  "kernelspec": {
   "display_name": "Python 3 (ipykernel)",
   "language": "python",
   "name": "python3"
  },
  "language_info": {
   "codemirror_mode": {
    "name": "ipython",
    "version": 3
   },
   "file_extension": ".py",
   "mimetype": "text/x-python",
   "name": "python",
   "nbconvert_exporter": "python",
   "pygments_lexer": "ipython3",
   "version": "3.10.6"
  }
 },
 "nbformat": 4,
 "nbformat_minor": 5
}
